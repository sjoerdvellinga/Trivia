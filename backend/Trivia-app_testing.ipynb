{
 "metadata": {
  "language_info": {
   "codemirror_mode": {
    "name": "ipython",
    "version": 3
   },
   "file_extension": ".py",
   "mimetype": "text/x-python",
   "name": "python",
   "nbconvert_exporter": "python",
   "pygments_lexer": "ipython3",
   "version": "3.9.2-final"
  },
  "orig_nbformat": 2,
  "kernelspec": {
   "name": "python3",
   "display_name": "Python 3",
   "language": "python"
  }
 },
 "nbformat": 4,
 "nbformat_minor": 2,
 "cells": [
  {
   "cell_type": "code",
   "execution_count": 1,
   "metadata": {},
   "outputs": [],
   "source": [
    "# import all dependencies\n",
    "import unittest\n",
    "import json\n",
    "from flaskr import create_app\n",
    "from models import setup_db"
   ]
  },
  {
   "cell_type": "code",
   "execution_count": 2,
   "metadata": {},
   "outputs": [
    {
     "output_type": "error",
     "ename": "SyntaxError",
     "evalue": "unmatched ')' (<ipython-input-2-a43f86f62b95>, line 31)",
     "traceback": [
      "\u001b[0;36m  File \u001b[0;32m\"<ipython-input-2-a43f86f62b95>\"\u001b[0;36m, line \u001b[0;32m31\u001b[0m\n\u001b[0;31m    self.assertEqual(data['total_categories']))\u001b[0m\n\u001b[0m                                              ^\u001b[0m\n\u001b[0;31mSyntaxError\u001b[0m\u001b[0;31m:\u001b[0m unmatched ')'\n"
     ]
    }
   ],
   "source": [
    "class TriviaTestCase(unittest.TestCase):\n",
    "    \"\"\"This class represents the resource test case\"\"\"\n",
    "\n",
    "    def setUp(self):\n",
    "        \"\"\"Define test variables and initialize app.\"\"\"\n",
    "        self.app = create_app()\n",
    "        self.client = self.app.test_client\n",
    "        self.database_name = \"trivia_test\"\n",
    "        self.database_path = \"postgres://{}:{}@{}/{}\".format('postgres', 'postgres','localhost:5432', self.database_name)\n",
    "        setup_db(self.app, self.database_path)\n",
    "\n",
    "        self.create_question = {\n",
    "            'question': 'Is Covid19 a fever?',\n",
    "            'answer': 'no',\n",
    "            'category': '1',\n",
    "            'difficulty': '1'\n",
    "        }\n",
    "\n",
    "    def tearDown(self):\n",
    "        \"\"\"Executed after each test\"\"\"\n",
    "        pass\n",
    "\n",
    "    def test_get_categories(self):\n",
    "        \"\"\"Test Categories display \"\"\"\n",
    "        res = self.client().get('/categories')\n",
    "        data = json.loads(res.data)\n",
    "\n",
    "        self.assertEqual(res.status_code, 200)\n",
    "        self.assertEqual(data['success'], True)\n",
    "        self.assertEqual(data['categories'])\n",
    "        self.assertEqual(data['total_categories']))\n",
    "\n",
    "\n",
    "\n",
    "\n",
    "#     def test_get_questions(self):\n",
    "#         \"\"\"Test Questions display \"\"\"\n",
    "#         res = self.client().get('/categories')\n",
    "#         self.assertEqual(res.status_code, 200)\n",
    "\n",
    "\n",
    "\n",
    "\n",
    "\n",
    "\n",
    "# self.assertEqual(res.)\n",
    "# self.assertEqual(res.)\n",
    "# self.assertEqual(data[],)\n",
    "# self.assertEqual(data[],)\n",
    "# self.assertEqual(data[],)\n",
    "# self.assertEqual(data[],)\n",
    "# self.assertEqual(data[],)\n",
    "# self.assertEqual(data[],)\n",
    "# self.assertEqual(data[],)"
   ]
  },
  {
   "cell_type": "code",
   "execution_count": null,
   "metadata": {},
   "outputs": [],
   "source": [
    "# Make the tests conveniently executable\n",
    "if __name__ == \"__main__\":\n",
    "    unittest.main()"
   ]
  }
 ]
}